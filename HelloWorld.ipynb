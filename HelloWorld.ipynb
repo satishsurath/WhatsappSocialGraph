{
 "cells": [
  {
   "cell_type": "code",
   "execution_count": 16,
   "id": "82afddc5-72f3-4d70-a9c9-6aa514406ed5",
   "metadata": {},
   "outputs": [],
   "source": [
    "from whatstk import df_from_txt_whatsapp\n"
   ]
  },
  {
   "cell_type": "code",
   "execution_count": 47,
   "id": "05a93e94-7234-4e69-b95b-dcbe2522c8d3",
   "metadata": {},
   "outputs": [],
   "source": [
    "from whatstk import WhatsAppChat\n",
    "from whatstk.data import whatsapp_urls\n",
    "#chat = WhatsAppChat.from_source(filepath=\"/Users/satishsurath/downloads/chat.txt\")\n",
    "#chat = WhatsAppChat.from_source(filepath=\"/Users/satishsurath/downloads/20230923-EVOC8-chat.txt\")\n",
    "#chat = WhatsAppChat.from_source(filepath=\"/Users/satishsurath/downloads/20230923-EMBA43-chat.txt\")\n",
    "chat = WhatsAppChat.from_source(filepath=whatsapp_urls.LOREM_2000)"
   ]
  },
  {
   "cell_type": "code",
   "execution_count": 48,
   "id": "ea486eda-8eee-47f1-8137-55a8581e228f",
   "metadata": {},
   "outputs": [
    {
     "data": {
      "text/html": [
       "<div>\n",
       "<style scoped>\n",
       "    .dataframe tbody tr th:only-of-type {\n",
       "        vertical-align: middle;\n",
       "    }\n",
       "\n",
       "    .dataframe tbody tr th {\n",
       "        vertical-align: top;\n",
       "    }\n",
       "\n",
       "    .dataframe thead th {\n",
       "        text-align: right;\n",
       "    }\n",
       "</style>\n",
       "<table border=\"1\" class=\"dataframe\">\n",
       "  <thead>\n",
       "    <tr style=\"text-align: right;\">\n",
       "      <th></th>\n",
       "      <th>date</th>\n",
       "      <th>username</th>\n",
       "      <th>message</th>\n",
       "    </tr>\n",
       "  </thead>\n",
       "  <tbody>\n",
       "    <tr>\n",
       "      <th>0</th>\n",
       "      <td>2019-04-16 02:09:00</td>\n",
       "      <td>+1 123 456 789</td>\n",
       "      <td>Et labore proident laboris do labore ex.</td>\n",
       "    </tr>\n",
       "    <tr>\n",
       "      <th>1</th>\n",
       "      <td>2019-04-16 03:01:00</td>\n",
       "      <td>Mary</td>\n",
       "      <td>Reprehenderit id aute consectetur aliquip nost...</td>\n",
       "    </tr>\n",
       "    <tr>\n",
       "      <th>2</th>\n",
       "      <td>2019-04-17 12:56:00</td>\n",
       "      <td>John</td>\n",
       "      <td>Amet magna officia ullamco pariatur ipsum cupi...</td>\n",
       "    </tr>\n",
       "    <tr>\n",
       "      <th>3</th>\n",
       "      <td>2019-04-17 13:30:00</td>\n",
       "      <td>Mary</td>\n",
       "      <td>Cillum aute et cupidatat ipsum, occaecat lorem...</td>\n",
       "    </tr>\n",
       "    <tr>\n",
       "      <th>4</th>\n",
       "      <td>2019-04-17 15:09:00</td>\n",
       "      <td>John</td>\n",
       "      <td>Eiusmod irure laboris dolore anim, velit velit...</td>\n",
       "    </tr>\n",
       "  </tbody>\n",
       "</table>\n",
       "</div>"
      ],
      "text/plain": [
       "                 date        username  \\\n",
       "0 2019-04-16 02:09:00  +1 123 456 789   \n",
       "1 2019-04-16 03:01:00            Mary   \n",
       "2 2019-04-17 12:56:00            John   \n",
       "3 2019-04-17 13:30:00            Mary   \n",
       "4 2019-04-17 15:09:00            John   \n",
       "\n",
       "                                             message  \n",
       "0           Et labore proident laboris do labore ex.  \n",
       "1  Reprehenderit id aute consectetur aliquip nost...  \n",
       "2  Amet magna officia ullamco pariatur ipsum cupi...  \n",
       "3  Cillum aute et cupidatat ipsum, occaecat lorem...  \n",
       "4  Eiusmod irure laboris dolore anim, velit velit...  "
      ]
     },
     "execution_count": 48,
     "metadata": {},
     "output_type": "execute_result"
    }
   ],
   "source": [
    "chat.df.head(5)"
   ]
  },
  {
   "cell_type": "code",
   "execution_count": 49,
   "id": "4190f507-0351-4ca7-acdc-b58f72a30a99",
   "metadata": {},
   "outputs": [
    {
     "data": {
      "text/plain": [
       "['+1 123 456 789', 'Giuseppe', 'John', 'Mary']"
      ]
     },
     "execution_count": 49,
     "metadata": {},
     "output_type": "execute_result"
    }
   ],
   "source": [
    "chat.users"
   ]
  },
  {
   "cell_type": "code",
   "execution_count": 36,
   "id": "5f93c842-9d5b-4f25-b7a5-78383585551f",
   "metadata": {},
   "outputs": [],
   "source": [
    "from whatstk import WhatsAppChat, FigureBuilder\n",
    "from whatstk.graph import plot\n",
    "from whatstk.data import whatsapp_urls\n",
    "#chat = WhatsAppChat.from_source(filepath=whatsapp_urls.LOREM_2000)\n",
    "fb = FigureBuilder(chat=chat)"
   ]
  },
  {
   "cell_type": "code",
   "execution_count": 37,
   "id": "ec381780-09d1-4cfc-a92f-53a5adcaef4d",
   "metadata": {},
   "outputs": [
    {
     "data": {
      "text/plain": [
       "'temp-plot.html'"
      ]
     },
     "execution_count": 37,
     "metadata": {},
     "output_type": "execute_result"
    }
   ],
   "source": [
    "fig = fb.user_interventions_count_linechart()\n",
    "plot(fig)"
   ]
  },
  {
   "cell_type": "code",
   "execution_count": 32,
   "id": "b7cf5697-38da-4517-a695-387ab3e304e8",
   "metadata": {},
   "outputs": [
    {
     "data": {
      "text/plain": [
       "'temp-plot.html'"
      ]
     },
     "execution_count": 32,
     "metadata": {},
     "output_type": "execute_result"
    }
   ],
   "source": [
    "fig = fb.user_interventions_count_linechart(cumulative=True, title='User inteventions count (cumulative)')\n",
    "plot(fig)"
   ]
  },
  {
   "cell_type": "code",
   "execution_count": 25,
   "id": "8be29120-f15f-46b8-8332-828c56e362b9",
   "metadata": {},
   "outputs": [
    {
     "data": {
      "text/plain": [
       "'temp-plot.html'"
      ]
     },
     "execution_count": 25,
     "metadata": {},
     "output_type": "execute_result"
    }
   ],
   "source": [
    "fig = fb.user_interventions_count_linechart(cumulative=True, all_users=True, title='Inteventions count (cumulative)')\n",
    "plot(fig)"
   ]
  },
  {
   "cell_type": "code",
   "execution_count": 40,
   "id": "5a0b53ca-b069-448d-9bf1-6bbf6df0ac0f",
   "metadata": {},
   "outputs": [
    {
     "data": {
      "text/plain": [
       "'temp-plot.html'"
      ]
     },
     "execution_count": 40,
     "metadata": {},
     "output_type": "execute_result"
    }
   ],
   "source": [
    "fig = fb.user_interventions_count_linechart(date_mode='hour', title='User interventions count (hour)',xlabel='Hour')\n",
    "plot(fig)"
   ]
  },
  {
   "cell_type": "code",
   "execution_count": 42,
   "id": "600f591d-7ae8-4f02-a888-ba701254a21f",
   "metadata": {},
   "outputs": [
    {
     "data": {
      "text/plain": [
       "'temp-plot.html'"
      ]
     },
     "execution_count": 42,
     "metadata": {},
     "output_type": "execute_result"
    }
   ],
   "source": [
    "fig = fb.user_interventions_count_linechart(date_mode='month', title='User interventions count (yearly)', xlabel='Month')\n",
    "plot(fig)"
   ]
  },
  {
   "cell_type": "code",
   "execution_count": 46,
   "id": "7d26eb15-fdae-4929-b69d-02400f3f9782",
   "metadata": {},
   "outputs": [
    {
     "data": {
      "text/plain": [
       "'temp-plot.html'"
      ]
     },
     "execution_count": 46,
     "metadata": {},
     "output_type": "execute_result"
    }
   ],
   "source": [
    "from whatstk import WhatsAppChat, FigureBuilder\n",
    "from whatstk.graph import plot\n",
    "from whatstk.data import whatsapp_urls\n",
    "#chat = WhatsAppChat.from_source(filepath=whatsapp_urls.LOREM_2000)\n",
    "fig = FigureBuilder(chat=chat).user_message_responses_flow()\n",
    "plot(fig)"
   ]
  },
  {
   "cell_type": "code",
   "execution_count": null,
   "id": "23cd420f-15ed-4595-90e6-4a2525a021ec",
   "metadata": {},
   "outputs": [],
   "source": []
  }
 ],
 "metadata": {
  "kernelspec": {
   "display_name": "Python 3 (ipykernel)",
   "language": "python",
   "name": "python3"
  },
  "language_info": {
   "codemirror_mode": {
    "name": "ipython",
    "version": 3
   },
   "file_extension": ".py",
   "mimetype": "text/x-python",
   "name": "python",
   "nbconvert_exporter": "python",
   "pygments_lexer": "ipython3",
   "version": "3.10.13"
  }
 },
 "nbformat": 4,
 "nbformat_minor": 5
}
