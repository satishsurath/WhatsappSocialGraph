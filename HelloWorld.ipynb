{
 "cells": [
  {
   "cell_type": "code",
   "execution_count": 1,
   "id": "82afddc5-72f3-4d70-a9c9-6aa514406ed5",
   "metadata": {},
   "outputs": [],
   "source": [
    "from whatstk import df_from_txt_whatsapp\n"
   ]
  },
  {
   "cell_type": "code",
   "execution_count": 3,
   "id": "05a93e94-7234-4e69-b95b-dcbe2522c8d3",
   "metadata": {},
   "outputs": [],
   "source": [
    "from whatstk import WhatsAppChat\n",
    "from whatstk.data import whatsapp_urls\n",
    "chat = WhatsAppChat.from_source(filepath=\"load_chat.txt\")"
   ]
  },
  {
   "cell_type": "code",
   "execution_count": 5,
   "id": "ea486eda-8eee-47f1-8137-55a8581e228f",
   "metadata": {},
   "outputs": [
    {
     "data": {
      "text/html": [
       "<div>\n",
       "<style scoped>\n",
       "    .dataframe tbody tr th:only-of-type {\n",
       "        vertical-align: middle;\n",
       "    }\n",
       "\n",
       "    .dataframe tbody tr th {\n",
       "        vertical-align: top;\n",
       "    }\n",
       "\n",
       "    .dataframe thead th {\n",
       "        text-align: right;\n",
       "    }\n",
       "</style>\n",
       "<table border=\"1\" class=\"dataframe\">\n",
       "  <thead>\n",
       "    <tr style=\"text-align: right;\">\n",
       "      <th></th>\n",
       "      <th>date</th>\n",
       "      <th>username</th>\n",
       "      <th>message</th>\n",
       "    </tr>\n",
       "  </thead>\n",
       "  <tbody>\n",
       "    <tr>\n",
       "      <th>0</th>\n",
       "      <td>2020-01-15 02:22:56</td>\n",
       "      <td>Mary</td>\n",
       "      <td>Nostrud exercitation magna id.</td>\n",
       "    </tr>\n",
       "    <tr>\n",
       "      <th>1</th>\n",
       "      <td>2020-01-15 03:33:01</td>\n",
       "      <td>Mary</td>\n",
       "      <td>Non elit irure irure pariatur exercitation. 🇩🇰</td>\n",
       "    </tr>\n",
       "    <tr>\n",
       "      <th>2</th>\n",
       "      <td>2020-01-15 04:18:42</td>\n",
       "      <td>+1 123 456 789</td>\n",
       "      <td>Exercitation esse lorem reprehenderit ut ex ve...</td>\n",
       "    </tr>\n",
       "    <tr>\n",
       "      <th>3</th>\n",
       "      <td>2020-01-15 06:05:14</td>\n",
       "      <td>Giuseppe</td>\n",
       "      <td>Aliquip dolor reprehenderit voluptate dolore e...</td>\n",
       "    </tr>\n",
       "    <tr>\n",
       "      <th>4</th>\n",
       "      <td>2020-01-15 06:56:00</td>\n",
       "      <td>Mary</td>\n",
       "      <td>Ullamco duis et commodo exercitation.</td>\n",
       "    </tr>\n",
       "  </tbody>\n",
       "</table>\n",
       "</div>"
      ],
      "text/plain": [
       "                 date        username  \\\n",
       "0 2020-01-15 02:22:56            Mary   \n",
       "1 2020-01-15 03:33:01            Mary   \n",
       "2 2020-01-15 04:18:42  +1 123 456 789   \n",
       "3 2020-01-15 06:05:14        Giuseppe   \n",
       "4 2020-01-15 06:56:00            Mary   \n",
       "\n",
       "                                             message  \n",
       "0                     Nostrud exercitation magna id.  \n",
       "1     Non elit irure irure pariatur exercitation. 🇩🇰  \n",
       "2  Exercitation esse lorem reprehenderit ut ex ve...  \n",
       "3  Aliquip dolor reprehenderit voluptate dolore e...  \n",
       "4              Ullamco duis et commodo exercitation.  "
      ]
     },
     "execution_count": 5,
     "metadata": {},
     "output_type": "execute_result"
    }
   ],
   "source": [
    "chat.df.head(5)"
   ]
  },
  {
   "cell_type": "code",
   "execution_count": null,
   "id": "4190f507-0351-4ca7-acdc-b58f72a30a99",
   "metadata": {},
   "outputs": [],
   "source": []
  }
 ],
 "metadata": {
  "kernelspec": {
   "display_name": "Python 3 (ipykernel)",
   "language": "python",
   "name": "python3"
  },
  "language_info": {
   "codemirror_mode": {
    "name": "ipython",
    "version": 3
   },
   "file_extension": ".py",
   "mimetype": "text/x-python",
   "name": "python",
   "nbconvert_exporter": "python",
   "pygments_lexer": "ipython3",
   "version": "3.10.13"
  }
 },
 "nbformat": 4,
 "nbformat_minor": 5
}
